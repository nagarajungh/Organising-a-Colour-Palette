{
 "cells": [
  {
   "cell_type": "markdown",
   "metadata": {
    "colab_type": "text",
    "id": "-HS7g-4Tol3E"
   },
   "source": [
    "University of Stirling<br>\n",
    "Computing Science and Mathematics<br>\n",
    "#### CSCU9YE - Artificial Intelligence<p>   \n",
    "## Assignment: Organising a Colour Palette \n",
    "This notetbook offers some auxiliary code to support your programming assignment.    "
   ]
  },
  {
   "cell_type": "markdown",
   "metadata": {},
   "source": [
    "### Reading the data file "
   ]
  },
  {
   "cell_type": "code",
   "execution_count": 1,
   "metadata": {
    "colab": {},
    "colab_type": "code",
    "id": "KhOt_WBFol3G"
   },
   "outputs": [],
   "source": [
    "import numpy as np      # Numerical library, used keeing the list of colours and computing the Euclidean distance\n",
    "\n",
    "# Read in the color data file \n",
    "# Input: string with file name\n",
    "# Oputput: the number of colours (integer), and a list numpy arrays with all the colours\n",
    "def read_data(fname):\n",
    "    cols = np.loadtxt(fname, skiprows = 4) # The first 4 lines have text information, and are ignored     \n",
    "    ncols = len(cols)     # Total number of colours and list of colours\n",
    "    return ncols,cols"
   ]
  },
  {
   "cell_type": "markdown",
   "metadata": {},
   "source": [
    "#### Read and explore the data file: either the 10, 100, or 500 colours dataset\n",
    "\n",
    "The colorus are stored in a list, where each element of the list is a numpy array of dimension 3. That is arrays of 3 real numbers where the real numbers indicate the R,G, and B values of the colour (RGB colour model). "
   ]
  },
  {
   "cell_type": "code",
   "execution_count": 3,
   "metadata": {},
   "outputs": [
    {
     "name": "stdout",
     "output_type": "stream",
     "text": [
      "Number of colours: 10\n",
      "First 5 colours:\n",
      "[[0.96645354 0.4407326  0.00749147]\n",
      " [0.91097596 0.939269   0.58222757]\n",
      " [0.67156348 0.08393823 0.76648093]\n",
      " [0.23680978 0.03081402 0.78877272]\n",
      " [0.34608897 0.62328148 0.6158157 ]]\n"
     ]
    }
   ],
   "source": [
    "ncolors, colors = read_data(\"col10.txt\")\n",
    "\n",
    "print(f'Number of colours: {ncolors}')\n",
    "print(\"First 5 colours:\")\n",
    "print(colors[0:5,  :])"
   ]
  },
  {
   "cell_type": "markdown",
   "metadata": {
    "colab_type": "text",
    "id": "L8ZvdCK7ol3O"
   },
   "source": [
    "### Plotting a sequence of colours\n",
    "\n",
    "The function <b>plot_colors()</b> displaysthe colours from the color list *col_list* the order given by the *col_order* list. \n",
    "\n",
    "*col_list* and *col_order* need to be of the same length. The *ratio* parameter indicates height/width proportion of each bar of colour in the plot."
   ]
  },
  {
   "cell_type": "code",
   "execution_count": 4,
   "metadata": {
    "colab": {},
    "colab_type": "code",
    "id": "-devp9PBol3P"
   },
   "outputs": [],
   "source": [
    "import matplotlib.pyplot as plt\n",
    "\n",
    "# Dsiplay the colors as a strip of color bars\n",
    "# Input: list of colors, order of colors, and height/ratio\n",
    "\n",
    "def plot_colors(col_list, col_order, ratio = 10): \n",
    "    assert len(col_list) == len(col_order)\n",
    "    img = np.zeros((ratio, len(col_list), 3))\n",
    "    for i in range(0, len(col_list)):\n",
    "        img[:, i, :] = col_list[col_order[i]]\n",
    "    fig, axes = plt.subplots(1, figsize=(10,6)) # figsize=(width,height) handles window dimensions\n",
    "    axes.imshow(img, interpolation='nearest')\n",
    "    axes.axis('off')\n",
    "    plt.show()"
   ]
  },
  {
   "cell_type": "markdown",
   "metadata": {
    "colab_type": "text",
    "id": "_sesVP5bol3U"
   },
   "source": [
    "### Examples of ploting a colour ordering\n",
    "\n",
    "Let us see how to call the plot function, using the original order in which the colours appear in the data file, and another randomised order."
   ]
  },
  {
   "cell_type": "code",
   "execution_count": 5,
   "metadata": {
    "colab": {},
    "colab_type": "code",
    "id": "xnxRAdZ5ol3V",
    "outputId": "fe8aeb34-44be-4e44-9b1f-c7c1d11970cb"
   },
   "outputs": [
    {
     "data": {
      "image/png": "[encoded data removed]",
      "text/plain": [
       "<Figure size 720x432 with 1 Axes>"
      ]
     },
     "metadata": {
      "needs_background": "light"
     },
     "output_type": "display_data"
    },
    {
     "name": "stdout",
     "output_type": "stream",
     "text": [
      "Another random solution:  [58, 34, 67, 13, 42, 22, 29, 6, 59, 60, 15, 18, 65, 77, 36, 71, 35, 38, 40, 49, 88, 7, 44, 4, 61, 16, 3, 82, 30, 68, 12, 26, 97, 89, 5, 73, 48, 41, 50, 70, 32, 31, 46, 87, 0, 28, 99, 63, 76, 91, 75, 80, 94, 56, 19, 43, 86, 72, 93, 39, 95, 54, 45, 2, 14, 11, 51, 37, 98, 84, 23, 1, 52, 20, 47, 92, 90, 25, 27, 53, 17, 62, 78, 85, 21, 79, 24, 66, 74, 10, 33, 64, 55, 8, 83, 96, 69, 57, 9, 81]\n"
     ]
    },
    {
     "data": {
      "image/png": "[encoded data removed]",
      "text/plain": [
       "<Figure size 720x432 with 1 Axes>"
      ]
     },
     "metadata": {
      "needs_background": "light"
     },
     "output_type": "display_data"
    },
    {
     "name": "stdout",
     "output_type": "stream",
     "text": [
      "Same ordering of colurs with a larger ratio\n"
     ]
    },
    {
     "data": {
      "image/png": "[encoded data removed]",
      "text/plain": [
       "<Figure size 720x432 with 1 Axes>"
      ]
     },
     "metadata": {
      "needs_background": "light"
     },
     "output_type": "display_data"
    }
   ],
   "source": [
    "import random as rnd\n",
    "\n",
    "# Plot all the colors in the order they are listd in the file\n",
    "order1 = list(range(ncolors))   # list of consequtive numbers from 0 to ncolors\n",
    "plot_colors(colors, order1)    #  You will notice that colors are not ordered in the file\n",
    "\n",
    "# Function to generate a random solution (random ordering)  - we can generate a random ordering of the list by using\n",
    "# the shuffle function from the random library\n",
    "def random_sol():\n",
    "    sol = list(range(ncolors))   # list of consequtive numbers from 0 to ncolors\n",
    "    # Shuffle the elements in the list randomly. Shuffles in place and doesn’t retunr a value\n",
    "    rnd.shuffle(sol)   \n",
    "    return sol\n",
    "\n",
    "order2 = random_sol()\n",
    "print(\"Another random solution: \", order2)\n",
    "plot_colors(colors, order2)  # the colors are not ordered, but this is a different order\n",
    "\n",
    "# You can test different ratios of the hight/width of the lines in the plot\n",
    "print(\"Same ordering of colurs with a larger ratio\")\n",
    "plot_colors(colors, order2, 20)"
   ]
  },
  {
   "cell_type": "markdown",
   "metadata": {},
   "source": [
    "### Evaluation function to determine the quality of a given ordering of colours\n",
    "\n",
    "When solving the problem using optimisation heuristics, we need an evaluation function to measure the quality of a sulution. The problem is formulated as a minimisation  problem. We want to minimise the pair-wise distance between consequtive colours in the ordering. \n",
    "\n",
    "This function computes the quality of given ordering of colours. The smaller the evaluation function the better, as this is is formulated as a minimisation problem"
   ]
  },
  {
   "cell_type": "code",
   "execution_count": 6,
   "metadata": {},
   "outputs": [],
   "source": [
    "# This is an auxiliary function. It calculate the Euclidean distance between two individual colours\n",
    "# Input: v and u as to be numpy arrays, vectors of real numbers with the RGB coordinates.\n",
    "\n",
    "def euclid(v, u):\n",
    "    return np.linalg.norm(v - u)\n",
    "\n",
    "# Evaluation function.  Measures the quality of a given solution (ordering of colours) \n",
    "# The function computes the sum of the distances between all consecutive colours in the ordering\n",
    "# Input: cols: list of colours \n",
    "#        ordc: ordering of colours\n",
    "# Output: real number with the sumf of pair-wise differences in the colour ordering\n",
    "\n",
    "def evaluate(cols, ordc):     \n",
    "    adjacentColPairs = [[cols[ordc[i]],cols[ordc[i-1]]] for i in range(1,len(ordc))]\n",
    "    return sum([euclid(i[1], i[0]) for i in adjacentColPairs])"
   ]
  },
  {
   "cell_type": "markdown",
   "metadata": {},
   "source": [
    "#### Evaluating the quality of given solutions\n",
    "\n",
    "Let us use the evaluation function to calculate the quality of the arbitrary orderings of colours *order1* and *order2*"
   ]
  },
  {
   "cell_type": "code",
   "execution_count": 7,
   "metadata": {},
   "outputs": [
    {
     "name": "stdout",
     "output_type": "stream",
     "text": [
      "Evaluation of order1: 64.70327551062434\n",
      "Evaluation of order1: 64.7033\n",
      "Evaluation of order1: 65.64059138248528\n",
      "Evaluation of order1: 65.6406\n"
     ]
    }
   ],
   "source": [
    "e1 = evaluate(colors, order1)\n",
    "print(f'Evaluation of order1: {e1}') # Displaying all decimals\n",
    "print(f'Evaluation of order1: {np.round(e1,4)}') # rounding to display only 4 decimals. This is better for display\n",
    "\n",
    "e2 = evaluate(colors, order2)\n",
    "print(f'Evaluation of order1: {e2}') # Displaying all decimals\n",
    "print(f'Evaluation of order1: {np.round(e2,4)}') # rounding to display only 4 decimals. This is better for display"
   ]
  },
  {
   "cell_type": "code",
   "execution_count": null,
   "metadata": {},
   "outputs": [],
   "source": []
  }
 ],
 "metadata": {
  "colab": {
   "name": "courseWork_startup_kit.ipynb",
   "provenance": []
  },
  "kernelspec": {
   "display_name": "Python 3",
   "language": "python",
   "name": "python3"
  },
  "language_info": {
   "codemirror_mode": {
    "name": "ipython",
    "version": 3
   },
   "file_extension": ".py",
   "mimetype": "text/x-python",
   "name": "python",
   "nbconvert_exporter": "python",
   "pygments_lexer": "ipython3",
   "version": "3.8.0"
  }
 },
 "nbformat": 4,
 "nbformat_minor": 4
}
